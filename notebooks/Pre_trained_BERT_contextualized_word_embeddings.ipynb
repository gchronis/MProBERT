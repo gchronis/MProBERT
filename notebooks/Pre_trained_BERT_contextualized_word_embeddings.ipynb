{
 "cells": [
  {
   "cell_type": "code",
   "execution_count": 1,
   "metadata": {},
   "outputs": [
    {
     "name": "stdout",
     "output_type": "stream",
     "text": [
      "3.7.4\n"
     ]
    }
   ],
   "source": [
    "from platform import python_version\n",
    "\n",
    "print(python_version())"
   ]
  },
  {
   "cell_type": "code",
   "execution_count": 2,
   "metadata": {
    "colab": {
     "base_uri": "https://localhost:8080/",
     "height": 102
    },
    "colab_type": "code",
    "id": "eot6_cHkIxHu",
    "outputId": "29169280-e81e-4d03-eecc-f997a2398600"
   },
   "outputs": [
    {
     "name": "stdout",
     "output_type": "stream",
     "text": [
      "Cloning into 'bert'...\n",
      "remote: Enumerating objects: 336, done.\u001b[K\n",
      "remote: Total 336 (delta 0), reused 0 (delta 0), pack-reused 336\u001b[K\n",
      "Receiving objects: 100% (336/336), 283.23 KiB | 1.59 MiB/s, done.\n",
      "Resolving deltas: 100% (185/185), done.\n"
     ]
    }
   ],
   "source": [
    "!rm -rf bert\n",
    "!git clone https://github.com/google-research/bert"
   ]
  },
  {
   "cell_type": "code",
   "execution_count": 3,
   "metadata": {
    "colab": {},
    "colab_type": "code",
    "id": "plr13kC_IAoV"
   },
   "outputs": [],
   "source": [
    "from __future__ import absolute_import\n",
    "from __future__ import division\n",
    "from __future__ import print_function\n",
    "\n",
    "\n",
    "import sys\n",
    "\n",
    "sys.path.append('bert')\n",
    "\n",
    "import codecs\n",
    "import collections\n",
    "import json\n",
    "import re\n",
    "import os\n",
    "import pprint\n",
    "import numpy as np\n",
    "import tensorflow as tf\n",
    "\n",
    "from bert import modeling\n",
    "from bert import tokenization"
   ]
  },
  {
   "cell_type": "code",
   "execution_count": 4,
   "metadata": {
    "colab": {
     "base_uri": "https://localhost:8080/",
     "height": 357
    },
    "colab_type": "code",
    "id": "cOt0hGU_vbEd",
    "outputId": "0bbab8b8-5026-406b-9a21-4a64cafa5fc3"
   },
   "outputs": [],
   "source": [
    "# assert 'COLAB_TPU_ADDR' in os.environ, 'ERROR: Not connected to a TPU runtime; please see the first cell in this notebook for instructions!'\n",
    "# TPU_ADDRESS = 'grpc://' + os.environ['COLAB_TPU_ADDR']\n",
    "# print('TPU address is', TPU_ADDRESS)\n",
    "\n",
    "# from google.colab import auth\n",
    "# auth.authenticate_user()\n",
    "# with tf.Session(TPU_ADDRESS) as session:\n",
    "#   print('TPU devices:')\n",
    "#   pprint.pprint(session.list_devices())\n",
    "\n",
    "#   # Upload credentials to TPU.\n",
    "#   with open('/content/adc.json', 'r') as f:\n",
    "#     auth_info = json.load(f)\n",
    "#   tf.contrib.cloud.configure_gcs(session, credentials=auth_info)\n",
    "#   # Now credentials are set for all future sessions on this TPU."
   ]
  },
  {
   "cell_type": "code",
   "execution_count": 5,
   "metadata": {
    "colab": {
     "base_uri": "https://localhost:8080/",
     "height": 136
    },
    "colab_type": "code",
    "id": "0nqW7nJWhdad",
    "outputId": "bdd6e961-b2e7-4736-f3b4-f19d0b221d45"
   },
   "outputs": [
    {
     "name": "stdout",
     "output_type": "stream",
     "text": [
      "***** BERT pretrained directory: gs://cloud-tpu-checkpoints/bert/uncased_L-12_H-768_A-12 *****\n",
      "/bin/sh: gsutil: command not found\r\n"
     ]
    }
   ],
   "source": [
    "# Available pretrained model checkpoints:\n",
    "#   uncased_L-12_H-768_A-12: uncased BERT base model\n",
    "#   uncased_L-24_H-1024_A-16: uncased BERT large model\n",
    "#   cased_L-12_H-768_A-12: cased BERT large model\n",
    "BERT_MODEL = 'uncased_L-12_H-768_A-12' #@param {type:\"string\"}\n",
    "BERT_PRETRAINED_DIR = 'gs://cloud-tpu-checkpoints/bert/' + BERT_MODEL\n",
    "print('***** BERT pretrained directory: {} *****'.format(BERT_PRETRAINED_DIR))\n",
    "!gsutil ls $BERT_PRETRAINED_DIR"
   ]
  },
  {
   "cell_type": "code",
   "execution_count": 6,
   "metadata": {
    "colab": {},
    "colab_type": "code",
    "id": "3oLGerwRKCe_"
   },
   "outputs": [],
   "source": [
    "LAYERS = [-1,-2,-3,-4]\n",
    "NUM_TPU_CORES = 8\n",
    "MAX_SEQ_LENGTH = 87\n",
    "BERT_CONFIG = BERT_PRETRAINED_DIR + '/bert_config.json'\n",
    "CHKPT_DIR = BERT_PRETRAINED_DIR + '/bert_model.ckpt'\n",
    "VOCAB_FILE = BERT_PRETRAINED_DIR + '/vocab.txt'\n",
    "INIT_CHECKPOINT = BERT_PRETRAINED_DIR + '/bert_model.ckpt'\n",
    "BATCH_SIZE = 128"
   ]
  },
  {
   "cell_type": "code",
   "execution_count": 7,
   "metadata": {
    "colab": {},
    "colab_type": "code",
    "id": "3z5cIOXpHDUL"
   },
   "outputs": [],
   "source": [
    "class InputExample(object):\n",
    "\n",
    "  def __init__(self, unique_id, text_a, text_b=None):\n",
    "    self.unique_id = unique_id\n",
    "    self.text_a = text_a\n",
    "    self.text_b = text_b\n"
   ]
  },
  {
   "cell_type": "code",
   "execution_count": 8,
   "metadata": {
    "colab": {},
    "colab_type": "code",
    "id": "z2rw4F53H7A-"
   },
   "outputs": [],
   "source": [
    "class InputFeatures(object):\n",
    "  \"\"\"A single set of features of data.\"\"\"\n",
    "\n",
    "  def __init__(self, unique_id, tokens, input_ids, input_mask, input_type_ids):\n",
    "    self.unique_id = unique_id\n",
    "    self.tokens = tokens\n",
    "    self.input_ids = input_ids\n",
    "    self.input_mask = input_mask\n",
    "    self.input_type_ids = input_type_ids"
   ]
  },
  {
   "cell_type": "code",
   "execution_count": 9,
   "metadata": {
    "colab": {},
    "colab_type": "code",
    "id": "jkYivQahH7uZ"
   },
   "outputs": [],
   "source": [
    "def input_fn_builder(features, seq_length):\n",
    "  \"\"\"Creates an `input_fn` closure to be passed to TPUEstimator.\"\"\"\n",
    "\n",
    "  all_unique_ids = []\n",
    "  all_input_ids = []\n",
    "  all_input_mask = []\n",
    "  all_input_type_ids = []\n",
    "\n",
    "  for feature in features:\n",
    "    all_unique_ids.append(feature.unique_id)\n",
    "    all_input_ids.append(feature.input_ids)\n",
    "    all_input_mask.append(feature.input_mask)\n",
    "    all_input_type_ids.append(feature.input_type_ids)\n",
    "\n",
    "  def input_fn(params):\n",
    "    \"\"\"The actual input function.\"\"\"\n",
    "    batch_size = params[\"batch_size\"]\n",
    "\n",
    "    num_examples = len(features)\n",
    "\n",
    "    # This is for demo purposes and does NOT scale to large data sets. We do\n",
    "    # not use Dataset.from_generator() because that uses tf.py_func which is\n",
    "    # not TPU compatible. The right way to load data is with TFRecordReader.\n",
    "    d = tf.data.Dataset.from_tensor_slices({\n",
    "        \"unique_ids\":\n",
    "            tf.constant(all_unique_ids, shape=[num_examples], dtype=tf.int32),\n",
    "        \"input_ids\":\n",
    "            tf.constant(\n",
    "                all_input_ids, shape=[num_examples, seq_length],\n",
    "                dtype=tf.int32),\n",
    "        \"input_mask\":\n",
    "            tf.constant(\n",
    "                all_input_mask,\n",
    "                shape=[num_examples, seq_length],\n",
    "                dtype=tf.int32),\n",
    "        \"input_type_ids\":\n",
    "            tf.constant(\n",
    "                all_input_type_ids,\n",
    "                shape=[num_examples, seq_length],\n",
    "                dtype=tf.int32),\n",
    "    })\n",
    "\n",
    "    d = d.batch(batch_size=batch_size, drop_remainder=False)\n",
    "    return d\n",
    "\n",
    "  return input_fn"
   ]
  },
  {
   "cell_type": "code",
   "execution_count": 10,
   "metadata": {
    "colab": {},
    "colab_type": "code",
    "id": "sitEUE6yJWxO"
   },
   "outputs": [],
   "source": [
    "def model_fn_builder(bert_config, init_checkpoint, layer_indexes, use_tpu,\n",
    "                     use_one_hot_embeddings):\n",
    "  \"\"\"Returns `model_fn` closure for TPUEstimator.\"\"\"\n",
    "\n",
    "  def model_fn(features, labels, mode, params):  # pylint: disable=unused-argument\n",
    "    \"\"\"The `model_fn` for TPUEstimator.\"\"\"\n",
    "\n",
    "    unique_ids = features[\"unique_ids\"]\n",
    "    input_ids = features[\"input_ids\"]\n",
    "    input_mask = features[\"input_mask\"]\n",
    "    input_type_ids = features[\"input_type_ids\"]\n",
    "\n",
    "    model = modeling.BertModel(\n",
    "        config=bert_config,\n",
    "        is_training=False,\n",
    "        input_ids=input_ids,\n",
    "        input_mask=input_mask,\n",
    "        token_type_ids=input_type_ids,\n",
    "        use_one_hot_embeddings=use_one_hot_embeddings)\n",
    "\n",
    "    if mode != tf.estimator.ModeKeys.PREDICT:\n",
    "      raise ValueError(\"Only PREDICT modes are supported: %s\" % (mode))\n",
    "\n",
    "    tvars = tf.trainable_variables()\n",
    "    scaffold_fn = None\n",
    "    (assignment_map,\n",
    "     initialized_variable_names) = modeling.get_assignment_map_from_checkpoint(\n",
    "         tvars, init_checkpoint)\n",
    "    if use_tpu:\n",
    "\n",
    "      def tpu_scaffold():\n",
    "        tf.train.init_from_checkpoint(init_checkpoint, assignment_map)\n",
    "        return tf.train.Scaffold()\n",
    "\n",
    "      scaffold_fn = tpu_scaffold\n",
    "    else:\n",
    "      tf.train.init_from_checkpoint(init_checkpoint, assignment_map)\n",
    "\n",
    "    tf.logging.info(\"**** Trainable Variables ****\")\n",
    "    for var in tvars:\n",
    "      init_string = \"\"\n",
    "      if var.name in initialized_variable_names:\n",
    "        init_string = \", *INIT_FROM_CKPT*\"\n",
    "      tf.logging.info(\"  name = %s, shape = %s%s\", var.name, var.shape,\n",
    "                      init_string)\n",
    "\n",
    "    all_layers = model.get_all_encoder_layers()\n",
    "\n",
    "    predictions = {\n",
    "        \"unique_id\": unique_ids,\n",
    "    }\n",
    "\n",
    "    for (i, layer_index) in enumerate(layer_indexes):\n",
    "      predictions[\"layer_output_%d\" % i] = all_layers[layer_index]\n",
    "\n",
    "    output_spec = tf.contrib.tpu.TPUEstimatorSpec(\n",
    "        mode=mode, predictions=predictions, scaffold_fn=scaffold_fn)\n",
    "    return output_spec\n",
    "\n",
    "  return model_fn"
   ]
  },
  {
   "cell_type": "code",
   "execution_count": 11,
   "metadata": {
    "colab": {},
    "colab_type": "code",
    "id": "m7uS21ZTJYTT"
   },
   "outputs": [],
   "source": [
    "def convert_examples_to_features(examples, seq_length, tokenizer):\n",
    "  \"\"\"Loads a data file into a list of `InputBatch`s.\"\"\"\n",
    "\n",
    "  features = []\n",
    "  for (ex_index, example) in enumerate(examples):\n",
    "    tokens_a = tokenizer.tokenize(example.text_a)\n",
    "\n",
    "    tokens_b = None\n",
    "    if example.text_b:\n",
    "      tokens_b = tokenizer.tokenize(example.text_b)\n",
    "\n",
    "    if tokens_b:\n",
    "      # Modifies `tokens_a` and `tokens_b` in place so that the total\n",
    "      # length is less than the specified length.\n",
    "      # Account for [CLS], [SEP], [SEP] with \"- 3\"\n",
    "      _truncate_seq_pair(tokens_a, tokens_b, seq_length - 3)\n",
    "    else:\n",
    "      # Account for [CLS] and [SEP] with \"- 2\"\n",
    "      if len(tokens_a) > seq_length - 2:\n",
    "        tokens_a = tokens_a[0:(seq_length - 2)]\n",
    "\n",
    "    # The convention in BERT is:\n",
    "    # (a) For sequence pairs:\n",
    "    #  tokens:   [CLS] is this jack ##son ##ville ? [SEP] no it is not . [SEP]\n",
    "    #  type_ids: 0     0  0    0    0     0       0 0     1  1  1  1   1 1\n",
    "    # (b) For single sequences:\n",
    "    #  tokens:   [CLS] the dog is hairy . [SEP]\n",
    "    #  type_ids: 0     0   0   0  0     0 0\n",
    "    #\n",
    "    # Where \"type_ids\" are used to indicate whether this is the first\n",
    "    # sequence or the second sequence. The embedding vectors for `type=0` and\n",
    "    # `type=1` were learned during pre-training and are added to the wordpiece\n",
    "    # embedding vector (and position vector). This is not *strictly* necessary\n",
    "    # since the [SEP] token unambiguously separates the sequences, but it makes\n",
    "    # it easier for the model to learn the concept of sequences.\n",
    "    #\n",
    "    # For classification tasks, the first vector (corresponding to [CLS]) is\n",
    "    # used as as the \"sentence vector\". Note that this only makes sense because\n",
    "    # the entire model is fine-tuned.\n",
    "    tokens = []\n",
    "    input_type_ids = []\n",
    "    tokens.append(\"[CLS]\")\n",
    "    input_type_ids.append(0)\n",
    "    for token in tokens_a:\n",
    "      tokens.append(token)\n",
    "      input_type_ids.append(0)\n",
    "    tokens.append(\"[SEP]\")\n",
    "    input_type_ids.append(0)\n",
    "\n",
    "    if tokens_b:\n",
    "      for token in tokens_b:\n",
    "        tokens.append(token)\n",
    "        input_type_ids.append(1)\n",
    "      tokens.append(\"[SEP]\")\n",
    "      input_type_ids.append(1)\n",
    "\n",
    "    input_ids = tokenizer.convert_tokens_to_ids(tokens)\n",
    "\n",
    "    # The mask has 1 for real tokens and 0 for padding tokens. Only real\n",
    "    # tokens are attended to.\n",
    "    input_mask = [1] * len(input_ids)\n",
    "\n",
    "    # Zero-pad up to the sequence length.\n",
    "    while len(input_ids) < seq_length:\n",
    "      input_ids.append(0)\n",
    "      input_mask.append(0)\n",
    "      input_type_ids.append(0)\n",
    "\n",
    "    assert len(input_ids) == seq_length\n",
    "    assert len(input_mask) == seq_length\n",
    "    assert len(input_type_ids) == seq_length\n",
    "\n",
    "    if ex_index < 5:\n",
    "      tf.logging.info(\"*** Example ***\")\n",
    "      tf.logging.info(\"unique_id: %s\" % (example.unique_id))\n",
    "      tf.logging.info(\"tokens: %s\" % \" \".join(\n",
    "          [tokenization.printable_text(x) for x in tokens]))\n",
    "      tf.logging.info(\"input_ids: %s\" % \" \".join([str(x) for x in input_ids]))\n",
    "      tf.logging.info(\"input_mask: %s\" % \" \".join([str(x) for x in input_mask]))\n",
    "      tf.logging.info(\n",
    "          \"input_type_ids: %s\" % \" \".join([str(x) for x in input_type_ids]))\n",
    "\n",
    "    features.append(\n",
    "        InputFeatures(\n",
    "            unique_id=example.unique_id,\n",
    "            tokens=tokens,\n",
    "            input_ids=input_ids,\n",
    "            input_mask=input_mask,\n",
    "            input_type_ids=input_type_ids))\n",
    "  return features"
   ]
  },
  {
   "cell_type": "code",
   "execution_count": 12,
   "metadata": {
    "colab": {},
    "colab_type": "code",
    "id": "8kv4oBpaJfKl"
   },
   "outputs": [],
   "source": [
    "def _truncate_seq_pair(tokens_a, tokens_b, max_length):\n",
    "  \"\"\"Truncates a sequence pair in place to the maximum length.\"\"\"\n",
    "\n",
    "  # This is a simple heuristic which will always truncate the longer sequence\n",
    "  # one token at a time. This makes more sense than truncating an equal percent\n",
    "  # of tokens from each, since if one sequence is very short then each token\n",
    "  # that's truncated likely contains more information than a longer sequence.\n",
    "  while True:\n",
    "    total_length = len(tokens_a) + len(tokens_b)\n",
    "    if total_length <= max_length:\n",
    "      break\n",
    "    if len(tokens_a) > len(tokens_b):\n",
    "      tokens_a.pop()\n",
    "    else:\n",
    "      tokens_b.pop()"
   ]
  },
  {
   "cell_type": "code",
   "execution_count": 13,
   "metadata": {
    "colab": {},
    "colab_type": "code",
    "id": "3ybhvF0hJhTO"
   },
   "outputs": [],
   "source": [
    "def read_sequence(input_sentences):\n",
    "  examples = []\n",
    "  unique_id = 0\n",
    "  for sentence in input_sentences:\n",
    "    line = tokenization.convert_to_unicode(sentence)\n",
    "    examples.append(InputExample(unique_id=unique_id, text_a=line))\n",
    "    unique_id += 1\n",
    "  return examples\n",
    "  "
   ]
  },
  {
   "cell_type": "code",
   "execution_count": 14,
   "metadata": {
    "colab": {},
    "colab_type": "code",
    "id": "4kzMl3rQJjgV"
   },
   "outputs": [],
   "source": [
    "def get_features(input_text, dim=768):\n",
    "#   tf.logging.set_verbosity(tf.logging.INFO)\n",
    "\n",
    "  layer_indexes = LAYERS\n",
    "\n",
    "  bert_config = modeling.BertConfig.from_json_file(BERT_CONFIG)\n",
    "\n",
    "  tokenizer = tokenization.FullTokenizer(\n",
    "      vocab_file=VOCAB_FILE, do_lower_case=True)\n",
    "\n",
    "  is_per_host = tf.contrib.tpu.InputPipelineConfig.PER_HOST_V2\n",
    "  tpu_cluster_resolver = tf.contrib.cluster_resolver.TPUClusterResolver(TPU_ADDRESS)\n",
    "  run_config = tf.contrib.tpu.RunConfig(\n",
    "      cluster=tpu_cluster_resolver,\n",
    "      tpu_config=tf.contrib.tpu.TPUConfig(\n",
    "          num_shards=NUM_TPU_CORES,\n",
    "          per_host_input_for_training=is_per_host))\n",
    "\n",
    "  examples = read_sequence(input_text)\n",
    "\n",
    "  features = convert_examples_to_features(\n",
    "      examples=examples, seq_length=MAX_SEQ_LENGTH, tokenizer=tokenizer)\n",
    "\n",
    "  unique_id_to_feature = {}\n",
    "  for feature in features:\n",
    "    unique_id_to_feature[feature.unique_id] = feature\n",
    "\n",
    "  model_fn = model_fn_builder(\n",
    "      bert_config=bert_config,\n",
    "      init_checkpoint=INIT_CHECKPOINT,\n",
    "      layer_indexes=layer_indexes,\n",
    "      use_tpu=True,\n",
    "      use_one_hot_embeddings=True)\n",
    "\n",
    "  # If TPU is not available, this will fall back to normal Estimator on CPU\n",
    "  # or GPU.\n",
    "  estimator = tf.contrib.tpu.TPUEstimator(\n",
    "      use_tpu=True,\n",
    "      model_fn=model_fn,\n",
    "      config=run_config,\n",
    "      predict_batch_size=BATCH_SIZE,\n",
    "      train_batch_size=BATCH_SIZE)\n",
    "\n",
    "  input_fn = input_fn_builder(\n",
    "      features=features, seq_length=MAX_SEQ_LENGTH)\n",
    "\n",
    "  # Get features\n",
    "  for result in estimator.predict(input_fn, yield_single_examples=True):\n",
    "    unique_id = int(result[\"unique_id\"])\n",
    "    feature = unique_id_to_feature[unique_id]\n",
    "    output = collections.OrderedDict()\n",
    "    for (i, token) in enumerate(feature.tokens):\n",
    "      layers = []\n",
    "      for (j, layer_index) in enumerate(layer_indexes):\n",
    "        layer_output = result[\"layer_output_%d\" % j]\n",
    "        layer_output_flat = np.array([x for x in layer_output[i:(i + 1)].flat])\n",
    "        layers.append(layer_output_flat)\n",
    "      output[token] = sum(layers)[:dim]\n",
    "  \n",
    "  return output"
   ]
  },
  {
   "cell_type": "code",
   "execution_count": 15,
   "metadata": {
    "colab": {
     "base_uri": "https://localhost:8080/",
     "height": 24143
    },
    "colab_type": "code",
    "id": "gJp9DY5WJmBv",
    "outputId": "d26e3a95-6052-4357-a667-b91e214be106"
   },
   "outputs": [
    {
     "name": "stdout",
     "output_type": "stream",
     "text": [
      "WARNING:tensorflow:From /Users/gabriellachronis/src/abstract_bert/bert/modeling.py:93: The name tf.gfile.GFile is deprecated. Please use tf.io.gfile.GFile instead.\n",
      "\n",
      "WARNING:tensorflow:\n",
      "The TensorFlow contrib module will not be included in TensorFlow 2.0.\n",
      "For more information, please see:\n",
      "  * https://github.com/tensorflow/community/blob/master/rfcs/20180907-contrib-sunset.md\n",
      "  * https://github.com/tensorflow/addons\n",
      "  * https://github.com/tensorflow/io (for I/O related ops)\n",
      "If you depend on functionality not listed there, please file an issue.\n",
      "\n"
     ]
    },
    {
     "ename": "NameError",
     "evalue": "name 'TPU_ADDRESS' is not defined",
     "output_type": "error",
     "traceback": [
      "\u001b[0;31m---------------------------------------------------------------------------\u001b[0m",
      "\u001b[0;31mNameError\u001b[0m                                 Traceback (most recent call last)",
      "\u001b[0;32m<ipython-input-15-e85ad2033ce7>\u001b[0m in \u001b[0;36m<module>\u001b[0;34m\u001b[0m\n\u001b[0;32m----> 1\u001b[0;31m \u001b[0membeddings\u001b[0m \u001b[0;34m=\u001b[0m \u001b[0mget_features\u001b[0m\u001b[0;34m(\u001b[0m\u001b[0;34m[\u001b[0m\u001b[0;34m\"This is a test\"\u001b[0m\u001b[0;34m]\u001b[0m\u001b[0;34m)\u001b[0m\u001b[0;34m\u001b[0m\u001b[0;34m\u001b[0m\u001b[0m\n\u001b[0m\u001b[1;32m      2\u001b[0m \u001b[0mprint\u001b[0m\u001b[0;34m(\u001b[0m\u001b[0membeddings\u001b[0m\u001b[0;34m)\u001b[0m\u001b[0;34m\u001b[0m\u001b[0;34m\u001b[0m\u001b[0m\n",
      "\u001b[0;32m<ipython-input-14-d52bed505113>\u001b[0m in \u001b[0;36mget_features\u001b[0;34m(input_text, dim)\u001b[0m\n\u001b[1;32m     10\u001b[0m \u001b[0;34m\u001b[0m\u001b[0m\n\u001b[1;32m     11\u001b[0m   \u001b[0mis_per_host\u001b[0m \u001b[0;34m=\u001b[0m \u001b[0mtf\u001b[0m\u001b[0;34m.\u001b[0m\u001b[0mcontrib\u001b[0m\u001b[0;34m.\u001b[0m\u001b[0mtpu\u001b[0m\u001b[0;34m.\u001b[0m\u001b[0mInputPipelineConfig\u001b[0m\u001b[0;34m.\u001b[0m\u001b[0mPER_HOST_V2\u001b[0m\u001b[0;34m\u001b[0m\u001b[0;34m\u001b[0m\u001b[0m\n\u001b[0;32m---> 12\u001b[0;31m   \u001b[0mtpu_cluster_resolver\u001b[0m \u001b[0;34m=\u001b[0m \u001b[0mtf\u001b[0m\u001b[0;34m.\u001b[0m\u001b[0mcontrib\u001b[0m\u001b[0;34m.\u001b[0m\u001b[0mcluster_resolver\u001b[0m\u001b[0;34m.\u001b[0m\u001b[0mTPUClusterResolver\u001b[0m\u001b[0;34m(\u001b[0m\u001b[0mTPU_ADDRESS\u001b[0m\u001b[0;34m)\u001b[0m\u001b[0;34m\u001b[0m\u001b[0;34m\u001b[0m\u001b[0m\n\u001b[0m\u001b[1;32m     13\u001b[0m   run_config = tf.contrib.tpu.RunConfig(\n\u001b[1;32m     14\u001b[0m       \u001b[0mcluster\u001b[0m\u001b[0;34m=\u001b[0m\u001b[0mtpu_cluster_resolver\u001b[0m\u001b[0;34m,\u001b[0m\u001b[0;34m\u001b[0m\u001b[0;34m\u001b[0m\u001b[0m\n",
      "\u001b[0;31mNameError\u001b[0m: name 'TPU_ADDRESS' is not defined"
     ]
    }
   ],
   "source": [
    "embeddings = get_features([\"This is a test\"])\n",
    "print(embeddings)"
   ]
  },
  {
   "cell_type": "code",
   "execution_count": null,
   "metadata": {
    "colab": {},
    "colab_type": "code",
    "id": "f66lsI4TmYno"
   },
   "outputs": [],
   "source": []
  },
  {
   "cell_type": "code",
   "execution_count": null,
   "metadata": {},
   "outputs": [],
   "source": []
  }
 ],
 "metadata": {
  "accelerator": "TPU",
  "colab": {
   "collapsed_sections": [],
   "name": "Pre-trained BERT contextualized word embeddings",
   "provenance": []
  },
  "kernelspec": {
   "display_name": "Python 3",
   "language": "python",
   "name": "python3"
  },
  "language_info": {
   "codemirror_mode": {
    "name": "ipython",
    "version": 3
   },
   "file_extension": ".py",
   "mimetype": "text/x-python",
   "name": "python",
   "nbconvert_exporter": "python",
   "pygments_lexer": "ipython3",
   "version": "3.7.4"
  }
 },
 "nbformat": 4,
 "nbformat_minor": 1
}
