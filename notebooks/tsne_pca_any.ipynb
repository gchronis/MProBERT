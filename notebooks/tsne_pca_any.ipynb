{
 "cells": [
  {
   "cell_type": "markdown",
   "metadata": {},
   "source": [
    "Following tutorial at\n",
    "https://towardsdatascience.com/visualising-high-dimensional-datasets-using-pca-and-t-sne-in-python-8ef87e7915b"
   ]
  },
  {
   "cell_type": "code",
   "execution_count": 1,
   "metadata": {},
   "outputs": [],
   "source": [
    "from __future__ import print_function\n",
    "import time\n",
    "import numpy as np\n",
    "import pandas as pd\n",
    "from sklearn.decomposition import PCA\n",
    "from sklearn.manifold import TSNE\n",
    "%matplotlib inline\n",
    "import matplotlib.pyplot as plt\n",
    "from mpl_toolkits.mplot3d import Axes3D\n",
    "import seaborn as sns\n",
    "import csv"
   ]
  },
  {
   "cell_type": "code",
   "execution_count": null,
   "metadata": {},
   "outputs": [],
   "source": []
  },
  {
   "cell_type": "code",
   "execution_count": null,
   "metadata": {},
   "outputs": [],
   "source": []
  },
  {
   "cell_type": "markdown",
   "metadata": {},
   "source": [
    "# PCA analysis"
   ]
  },
  {
   "cell_type": "code",
   "execution_count": 2,
   "metadata": {},
   "outputs": [
    {
     "name": "stdout",
     "output_type": "stream",
     "text": [
      "number of data points: 44\n",
      "        word                                               text concreteness  \\\n",
      "0     asylum  This was the plea of a young Eritrean boy as h...         4.41   \n",
      "1     asylum  Prior to this incident , in April 1990 three S...         4.41   \n",
      "2     asylum  Other cases are known to Amnesty International...         4.41   \n",
      "3     asylum  Other cases are known to Amnesty International...         4.41   \n",
      "4     asylum  What has forced airline staff to take on this ...         4.41   \n",
      "5     asylum  The fining of airlines plus the fact that the ...         4.41   \n",
      "6     asylum  Instead of introducing procedures which can be...         4.41   \n",
      "7     asylum  During the period of 1984–5 , more than 2,800 ...         4.41   \n",
      "8     asylum  Subsequently in June 1989 a visa requirement w...         4.41   \n",
      "9     asylum  In 1989 more than 2,600 Somalis sought asylum ...         4.41   \n",
      "10    asylum  In April 1991 a visa requirement was imposed o...         4.41   \n",
      "11    asylum  As there is no provision in the UK immigration...         4.41   \n",
      "12    asylum  As there is no provision in the UK immigration...         4.41   \n",
      "13    asylum  It is to be regretted that many of the Governm...         4.41   \n",
      "14    asylum  Amnesty International has asked the Government...         4.41   \n",
      "15    asylum  In November 1990 , the Government conceded tha...         4.41   \n",
      "16    asylum  In November 1990 , the Government conceded tha...         4.41   \n",
      "17  madhouse                                  ‘ In a madhouse !          3.1   \n",
      "18  madhouse  It is easy to understand why he is in the madh...          3.1   \n",
      "19    asylum  DOZENS more East German refugees arrived outsi...         4.41   \n",
      "20    asylum  It argues that the understanding reached at th...         4.41   \n",
      "21    asylum  Britain cancelled a 1960 no-visa agreement in ...         4.41   \n",
      "22    asylum  PEKING yesterday bristled at a decision by Hon...         4.41   \n",
      "23    asylum  His request for political asylum in Hong Kong ...         4.41   \n",
      "24    asylum  The case became a hot potato for the governmen...         4.41   \n",
      "25    asylum  The Foreign Office said it was not closely inv...         4.41   \n",
      "26    asylum  They will now renew their application for asyl...         4.41   \n",
      "27    asylum  Two Kurds were injured , one seriously , in a ...         4.41   \n",
      "28    asylum  This script began with Aunt Lilian 's release ...         4.41   \n",
      "29    asylum                Kurd refused asylum dies after fire         4.41   \n",
      "30    asylum  A KURDISH refugee who set fire to himself afte...         4.41   \n",
      "31    asylum  The association hoped the death would bring a ...         4.41   \n",
      "32    asylum  The Home Office said 100 applications for poli...         4.41   \n",
      "33    asylum  No one , in this cast of hundreds , has just a...         4.41   \n",
      "34    asylum  It was a further example of Peking 's present ...         4.41   \n",
      "35    asylum  Peking had warned that ‘ Hong Kong would be he...         4.41   \n",
      "36    asylum  THE HOME OFFICE yesterday released 25 more Kur...         4.41   \n",
      "37    asylum  Meanwhile , a High Court judge warned of a ser...         4.41   \n",
      "38    asylum  He said some of the cases should be dealt with...         4.41   \n",
      "39    asylum  In today 's preliminary hearings at the High C...         4.41   \n",
      "40    asylum  But what we argue is that all should have the ...         4.41   \n",
      "41    asylum  The dispute was triggered by Hong Kong 's deci...         4.41   \n",
      "42    asylum  On Sunday China refused to accept back from Ho...         4.41   \n",
      "43    asylum  The commission is effectively saying the Gover...         4.41   \n",
      "\n",
      "                                               vector  \n",
      "0   [-0.625295043, 1.03008556, 4.26208067, -1.3470...  \n",
      "1   [2.40051293, 0.0387051702, 3.64890194, -1.1830...  \n",
      "2   [-1.32046127, 1.48873174, 3.5909605, 0.1533723...  \n",
      "3   [-1.32046127, 1.48873174, 3.5909605, 0.1533723...  \n",
      "4   [0.399891794, 0.561461031, 5.95500135, 0.51093...  \n",
      "5   [2.42814875, -0.278722048, 5.42874527, -0.9847...  \n",
      "6   [1.48364294, -0.90146023, 4.84686279, -1.52668...  \n",
      "7   [1.54810894, -0.051007092, 3.80387259, -3.1314...  \n",
      "8   [1.3183405, 0.072640777, 4.507618, -2.782593, ...  \n",
      "9   [0.476394385, -0.412186384, 3.28048396, -2.383...  \n",
      "10  [0.320361435, 0.475046873, 4.9749589, -1.94676...  \n",
      "11  [-0.761655331, 1.78055739, 4.91349888, 0.17900...  \n",
      "12  [-0.761655331, 1.78055739, 4.91349888, 0.17900...  \n",
      "13  [-1.33003712, 1.28819764, 4.47762918, -0.82405...  \n",
      "14  [-0.482397079, 1.74837101, 4.83885431, -0.9701...  \n",
      "15  [-2.2729053, 1.1210635, 5.8871746, 0.38926941,...  \n",
      "16  [-2.2729053, 1.1210635, 5.8871746, 0.38926941,...  \n",
      "17  [0.8894397, -0.56151593, 0.67368525, 2.0414257...  \n",
      "18  [-0.796651185, -0.416540623, -0.302515566, 1.0...  \n",
      "19  [0.697857022, -0.389506191, 4.89844656, -0.699...  \n",
      "20  [1.27795351, 3.16373968, 1.41123402, -0.357477...  \n",
      "21  [2.1287923, 0.094998509, 5.5356798, -2.7816117...  \n",
      "22  [0.302896976, -1.04881942, 3.80835056, 0.43716...  \n",
      "23  [0.74045068, 1.28050721, 3.21210337, -1.437909...  \n",
      "24  [-0.810969353, 1.24709201, 4.48230028, -1.0236...  \n",
      "25  [0.974467397, 0.596329331, 4.76140594, -1.6722...  \n",
      "26  [2.70870471, 0.248351514, 4.10214663, -1.36754...  \n",
      "27  [2.60758781, -1.01551342, 3.93016267, -1.98734...  \n",
      "28  [-0.576414824, 1.53618908, -1.68548548, -0.142...  \n",
      "29  [-0.200856954, -1.97074723, 4.36758947, -1.670...  \n",
      "30  [2.27784443, -0.682214856, 3.97908092, -1.7929...  \n",
      "31  [1.83236253, 0.285181761, 3.21559739, -2.42401...  \n",
      "32  [0.106146544, 0.747513056, 2.87609076, -2.1877...  \n",
      "33  [1.59485483, 0.237513542, 0.734771848, -0.2692...  \n",
      "34  [2.95413208, -0.0070604682, 4.21555376, -0.042...  \n",
      "35  [0.915291429, -0.745669007, 5.74687958, 0.9377...  \n",
      "36  [0.205353275, -0.923769236, 3.80611372, -2.064...  \n",
      "37  [1.48097396, -0.398532003, 5.46468401, -2.9653...  \n",
      "38  [2.7952414, -0.4169533, 3.8493445, -0.66578144...  \n",
      "39  [-0.43029338, 1.3938694, 4.9959974, -1.8892322...  \n",
      "40  [2.35507441, 1.24090004, 3.75885963, -1.814333...  \n",
      "41  [0.721156001, -1.53284538, 4.46574879, 0.33499...  \n",
      "42  [1.97160006, -0.037104249, 4.36242008, -1.0479...  \n",
      "43  [1.87425852, -0.276551872, 4.61071825, -2.4035...  \n",
      "Size of the dataframe: (44, 4)\n"
     ]
    }
   ],
   "source": [
    "\n",
    "items = [\"madhouse\", \"asylum\"]\n",
    "tokens = []\n",
    "with open('../../abstract_bert/data/derived/bnc_words_with_context_tokens_and_vectors.csv', mode=\"r\") as infile:\n",
    "    # word sentence concreteness vector\n",
    "    reader = csv.reader(infile, delimiter=\"\\t\")\n",
    "    for row in reader:\n",
    "        word = row[0]\n",
    "        if word.lower() in items:\n",
    "            tokens.append(row)\n",
    "print(\"number of data points: %s\" % len(tokens))              \n",
    "                \n",
    "data = pd.DataFrame.from_records(tokens, columns=[\"word\", \"text\", \"concreteness\", \"vector\"])\n",
    "data[\"vector\"] = data[\"vector\"].apply(lambda x: np.fromstring(x[1:-1], dtype=np.float, sep=' '))\n",
    "\n",
    "print(data)\n",
    "\n",
    "print('Size of the dataframe: {}'.format(data.shape))"
   ]
  },
  {
   "cell_type": "code",
   "execution_count": 3,
   "metadata": {},
   "outputs": [
    {
     "name": "stdout",
     "output_type": "stream",
     "text": [
      "Size of the dataframe: (44, 771)\n"
     ]
    }
   ],
   "source": [
    "\n",
    "X = data['vector']\n",
    "X = X.to_list()\n",
    "y = data['word']\n",
    "contexts = data['text']\n",
    "\n",
    "feat_cols = [ 'dimension'+str(i) for i in range(len(X[0])) ]\n",
    "df = pd.DataFrame(X,columns=feat_cols)\n",
    "df['y'] = y\n",
    "df['label'] = df['y'].apply(lambda i: str(i))\n",
    "df['context'] = contexts\n",
    "\n",
    "X, y = None, None \n",
    "\n",
    "print('Size of the dataframe: {}'.format(df.shape))\n",
    "\n",
    "    \n",
    "# vectors = df.get(\"vector\")\n",
    "# x = vectors.to_numpy()\n",
    "# x = x.tolist()\n",
    "# all_vectors = all_vectors + x\n",
    "# # TSNE analysis\n",
    "\n",
    "# model = TSNE(n_components=2, random_state=0)\n",
    "# res = model.fit_transform(all_vectors)\n",
    "# return res"
   ]
  },
  {
   "cell_type": "code",
   "execution_count": 4,
   "metadata": {},
   "outputs": [
    {
     "name": "stdout",
     "output_type": "stream",
     "text": [
      "Explained variation per principal component: [0.22194945 0.19312167 0.07073489]\n"
     ]
    }
   ],
   "source": [
    "pca = PCA(n_components=3)\n",
    "pca_result = pca.fit_transform(df[feat_cols].values)\n",
    "df['pca-one'] = pca_result[:,0]\n",
    "df['pca-two'] = pca_result[:,1] \n",
    "df['pca-three'] = pca_result[:,2]\n",
    "print('Explained variation per principal component: {}'.format(pca.explained_variance_ratio_))"
   ]
  },
  {
   "cell_type": "code",
   "execution_count": 5,
   "metadata": {},
   "outputs": [
    {
     "ename": "NameError",
     "evalue": "name 'p1' is not defined",
     "output_type": "error",
     "traceback": [
      "\u001b[0;31m---------------------------------------------------------------------------\u001b[0m",
      "\u001b[0;31mNameError\u001b[0m                                 Traceback (most recent call last)",
      "\u001b[0;32m<ipython-input-5-ec041bf5ed12>\u001b[0m in \u001b[0;36m<module>\u001b[0;34m\u001b[0m\n\u001b[1;32m     10\u001b[0m \u001b[0;34m\u001b[0m\u001b[0m\n\u001b[1;32m     11\u001b[0m \u001b[0;32mfor\u001b[0m \u001b[0mline\u001b[0m \u001b[0;32min\u001b[0m \u001b[0mrange\u001b[0m\u001b[0;34m(\u001b[0m\u001b[0;36m0\u001b[0m\u001b[0;34m,\u001b[0m\u001b[0mdf\u001b[0m\u001b[0;34m.\u001b[0m\u001b[0mshape\u001b[0m\u001b[0;34m[\u001b[0m\u001b[0;36m0\u001b[0m\u001b[0;34m]\u001b[0m\u001b[0;34m)\u001b[0m\u001b[0;34m:\u001b[0m\u001b[0;34m\u001b[0m\u001b[0;34m\u001b[0m\u001b[0m\n\u001b[0;32m---> 12\u001b[0;31m      \u001b[0mp1\u001b[0m\u001b[0;34m.\u001b[0m\u001b[0mtext\u001b[0m\u001b[0;34m(\u001b[0m\u001b[0mdf\u001b[0m\u001b[0;34m.\u001b[0m\u001b[0mx\u001b[0m\u001b[0;34m[\u001b[0m\u001b[0mline\u001b[0m\u001b[0;34m]\u001b[0m\u001b[0;34m+\u001b[0m\u001b[0;36m0.2\u001b[0m\u001b[0;34m,\u001b[0m \u001b[0mdf\u001b[0m\u001b[0;34m.\u001b[0m\u001b[0my\u001b[0m\u001b[0;34m[\u001b[0m\u001b[0mline\u001b[0m\u001b[0;34m]\u001b[0m\u001b[0;34m,\u001b[0m \u001b[0mdf\u001b[0m\u001b[0;34m.\u001b[0m\u001b[0mgroup\u001b[0m\u001b[0;34m[\u001b[0m\u001b[0mline\u001b[0m\u001b[0;34m]\u001b[0m\u001b[0;34m,\u001b[0m \u001b[0mhorizontalalignment\u001b[0m\u001b[0;34m=\u001b[0m\u001b[0;34m'left'\u001b[0m\u001b[0;34m,\u001b[0m \u001b[0msize\u001b[0m\u001b[0;34m=\u001b[0m\u001b[0;34m'medium'\u001b[0m\u001b[0;34m,\u001b[0m \u001b[0mcolor\u001b[0m\u001b[0;34m=\u001b[0m\u001b[0;34m'black'\u001b[0m\u001b[0;34m,\u001b[0m \u001b[0mweight\u001b[0m\u001b[0;34m=\u001b[0m\u001b[0;34m'semibold'\u001b[0m\u001b[0;34m)\u001b[0m\u001b[0;34m\u001b[0m\u001b[0;34m\u001b[0m\u001b[0m\n\u001b[0m",
      "\u001b[0;31mNameError\u001b[0m: name 'p1' is not defined"
     ]
    },
    {
     "data": {
      "image/png": "[encoded data removed]",
      "text/plain": [
       "<Figure size 1152x720 with 1 Axes>"
      ]
     },
     "metadata": {
      "needs_background": "light"
     },
     "output_type": "display_data"
    }
   ],
   "source": [
    "plt.figure(figsize=(16,10))\n",
    "sns.scatterplot(\n",
    "    x=\"pca-one\", y=\"pca-two\",\n",
    "    hue=\"y\",\n",
    "    palette=sns.color_palette(\"husl\", 2),\n",
    "    data=df,\n",
    "    legend=\"full\",\n",
    "    alpha=0.9\n",
    ")\n",
    "\n",
    "for line in range(0,df.shape[0]):\n",
    "     p1.text(df.x[line]+0.2, df.y[line], df.group[line], horizontalalignment='left', size='medium', color='black', weight='semibold')"
   ]
  },
  {
   "cell_type": "code",
   "execution_count": null,
   "metadata": {},
   "outputs": [],
   "source": [
    "# attempt to get annotations in 2d pca\n",
    "import textwrap\n",
    "\n",
    "plt.figure(figsize=(16,10))\n",
    "p1 = sns.scatterplot(\n",
    "    x=\"pca-one\", y=\"pca-two\",\n",
    "    hue=\"y\",\n",
    "    palette=sns.color_palette(\"husl\", 2),\n",
    "    data=df,\n",
    "    legend=\"full\",\n",
    "    alpha=0.9\n",
    ")\n",
    "\n",
    "for line in range(0,df.shape[0]):\n",
    "    if line % 1 == 0:\n",
    "        text = df.context[line]\n",
    "        text = textwrap.wrap(text, width=40)\n",
    "        text = '\\n'.join(text)\n",
    "        p1.text(df[\"pca-one\"][line]+0.2, df[\"pca-two\"][line], text, horizontalalignment='left', size='medium', color='black', weight='semibold')\n",
    "        \n"
   ]
  },
  {
   "cell_type": "code",
   "execution_count": null,
   "metadata": {},
   "outputs": [],
   "source": [
    "# attempt to get annotations in 3d pca\n",
    "\n",
    "from mpldatacursor import datacursor\n",
    "\n",
    "# Using a closure to access data. Ideally you'd use a \"functor\"-style class.\n",
    "def formatter(**kwargs):\n",
    "    return \"10\"\n",
    "\n",
    "ax = plt.figure(figsize=(16,10)).gca(projection='3d')\n",
    "\n",
    "ax.scatter(\n",
    "    xs=df[\"pca-one\"], \n",
    "    ys=df[\"pca-two\"], \n",
    "    zs=df[\"pca-three\"], \n",
    "    c=df[\"y\"].apply(lambda i: 0 if i==\"rook\" else 1), \n",
    "    cmap='Accent'\n",
    ")\n",
    "ax.set_xlabel('pca-one')\n",
    "ax.set_ylabel('pca-two')\n",
    "ax.set_zlabel('pca-three')\n",
    "\n",
    "datacursor(formatter=formatter, hover=True)\n",
    "\n",
    "plt.show()"
   ]
  },
  {
   "cell_type": "code",
   "execution_count": null,
   "metadata": {},
   "outputs": [],
   "source": [
    "ax = plt.figure(figsize=(16,10)).gca(projection='3d')\n",
    "ax.scatter(\n",
    "    xs=df[\"pca-one\"], \n",
    "    ys=df[\"pca-two\"], \n",
    "    zs=df[\"pca-three\"], \n",
    "    c=df[\"y\"].apply(lambda i: 0 if i==\"democracy\" else 1), \n",
    "    cmap='Accent'\n",
    ")\n",
    "ax.set_xlabel('pca-one')\n",
    "ax.set_ylabel('pca-two')\n",
    "ax.set_zlabel('pca-three')\n",
    "plt.show()"
   ]
  },
  {
   "cell_type": "code",
   "execution_count": null,
   "metadata": {},
   "outputs": [],
   "source": []
  },
  {
   "cell_type": "markdown",
   "metadata": {},
   "source": [
    "# TSNE "
   ]
  },
  {
   "cell_type": "code",
   "execution_count": null,
   "metadata": {},
   "outputs": [],
   "source": [
    "data_subset = df[feat_cols].values\n",
    "\n",
    "\n",
    "time_start = time.time()\n",
    "# use low perplexity because N is very small\n",
    "tsne = TSNE(n_components=2, verbose=1, perplexity=5, n_iter=300)\n",
    "tsne_results = tsne.fit_transform(data_subset)\n",
    "print('t-SNE done! Time elapsed: {} seconds'.format(time.time()-time_start))"
   ]
  },
  {
   "cell_type": "code",
   "execution_count": null,
   "metadata": {},
   "outputs": [],
   "source": [
    "df['tsne-2d-one'] = tsne_results[:,0]\n",
    "df['tsne-2d-two'] = tsne_results[:,1]\n",
    "plt.figure(figsize=(16,10))\n",
    "p1 = sns.scatterplot(\n",
    "    x=\"tsne-2d-one\", y=\"tsne-2d-two\",\n",
    "    hue=\"y\",\n",
    "    palette=sns.color_palette(\"hls\", 2),\n",
    "    data=df,\n",
    "    legend=\"full\",\n",
    "    alpha=0.9\n",
    ")\n",
    "\n",
    "for line in range(0,df.shape[0]):\n",
    "    if line % 1 == 0:\n",
    "        text = df.context[line]\n",
    "        text = textwrap.wrap(text, width=40)\n",
    "        text = '\\n'.join(text)\n",
    "        #p1.text(df[\"tsne-2d-one\"][line]+0.2, df[\"tsne-2d-two\"][line], text, horizontalalignment='left', size='medium', color='black', weight='semibold')\n",
    "       "
   ]
  },
  {
   "cell_type": "code",
   "execution_count": null,
   "metadata": {},
   "outputs": [],
   "source": []
  }
 ],
 "metadata": {
  "kernelspec": {
   "display_name": "Python 3",
   "language": "python",
   "name": "python3"
  },
  "language_info": {
   "codemirror_mode": {
    "name": "ipython",
    "version": 3
   },
   "file_extension": ".py",
   "mimetype": "text/x-python",
   "name": "python",
   "nbconvert_exporter": "python",
   "pygments_lexer": "ipython3",
   "version": "3.8.5"
  }
 },
 "nbformat": 4,
 "nbformat_minor": 2
}
